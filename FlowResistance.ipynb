{
 "cells": [
  {
   "cell_type": "code",
   "execution_count": 22,
   "id": "c38d1662-6377-405f-bd22-1dd3cf63c5f1",
   "metadata": {},
   "outputs": [],
   "source": [
    "import math\n",
    "\n",
    "class FlowResistance:\n",
    "    \n",
    "\n",
    "    def Baptist_2007(self,bed_roughness, drag_coef, veg_den, veg_diam, veg_height, gravity, van_karman, water_depth):\n",
    "        #The baptist equation \n",
    "        Cr1=1/math.sqrt((1/(bed_roughness**2))+drag_coef*veg_den*veg_diam*veg_height/(2*gravity)) + (math.sqrt(gravity)/van_karman)*math.log(water_depth/veg_height)\n",
    "        Cr2=1/math.sqrt((1/(bed_roughness**2))+drag_coef*veg_den*veg_diam*veg_height/(2*gravity)) \n",
    "        if veg_height>=water_depth:\n",
    "            return Cr2\n",
    "        else:\n",
    "            return Cr1\n",
    "        \n",
    "        \n",
    "    def chezy_to_manning(self,water_depth,Chezy):\n",
    "        #The actual relationship\n",
    "        n=water_depth**(1/6)/Chezy\n",
    "        return n\n",
    "    \n"
   ]
  },
  {
   "cell_type": "code",
   "execution_count": 23,
   "id": "80061888-895e-4b54-991f-bfe74bcb5f89",
   "metadata": {},
   "outputs": [
    {
     "name": "stdout",
     "output_type": "stream",
     "text": [
      "35.05463838271719\n",
      "0.04187175607396171\n"
     ]
    }
   ],
   "source": [
    "flow_resistance = FlowResistance()\n",
    "water_depth = 10 # this shall be updtaed with time\n",
    "cr = flow_resistance.Baptist_2007(bed_roughness=10, drag_coef=1.0, veg_den=4500, veg_diam=0.003, veg_height=0.15, gravity=9.81, van_karman=0.41, water_depth=water_depth)\n",
    "print(cr)\n",
    "\n",
    "fr =FlowResistance()\n",
    "n=fr.chezy_to_manning(water_depth,cr)\n",
    "print(n)\n"
   ]
  },
  {
   "cell_type": "code",
   "execution_count": null,
   "id": "6317af61-c6ec-4a67-b206-3eb77faa5fc0",
   "metadata": {},
   "outputs": [],
   "source": []
  },
  {
   "cell_type": "code",
   "execution_count": null,
   "id": "227daccb-a22d-48b9-b0ff-5960703a0924",
   "metadata": {},
   "outputs": [],
   "source": []
  },
  {
   "cell_type": "code",
   "execution_count": null,
   "id": "432905a2-7381-4fae-b7a6-4fc8608ca264",
   "metadata": {},
   "outputs": [],
   "source": []
  }
 ],
 "metadata": {
  "kernelspec": {
   "display_name": "Ivy",
   "language": "python",
   "name": "ivy"
  },
  "language_info": {
   "codemirror_mode": {
    "name": "ipython",
    "version": 3
   },
   "file_extension": ".py",
   "mimetype": "text/x-python",
   "name": "python",
   "nbconvert_exporter": "python",
   "pygments_lexer": "ipython3",
   "version": "3.11.0"
  }
 },
 "nbformat": 4,
 "nbformat_minor": 5
}
